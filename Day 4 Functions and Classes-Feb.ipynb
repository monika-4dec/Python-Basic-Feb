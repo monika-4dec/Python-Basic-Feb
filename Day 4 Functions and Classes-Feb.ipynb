{
 "cells": [
  {
   "cell_type": "raw",
   "id": "4a55c52c",
   "metadata": {},
   "source": [
    "Build in functions\n",
    "\n",
    "https://docs.python.org/3/library/functions.html\n"
   ]
  },
  {
   "cell_type": "code",
   "execution_count": 17,
   "id": "19bc67b0",
   "metadata": {},
   "outputs": [
    {
     "name": "stdout",
     "output_type": "stream",
     "text": [
      "Number of people in session5\n",
      "Name of sessionABC\n"
     ]
    }
   ],
   "source": [
    "## Function without any argument\n",
    "\n",
    "def session():\n",
    "    x=int(input(\"Number of people in session\"))\n",
    "    y=input(\"Name of session\")\n",
    "session()"
   ]
  },
  {
   "cell_type": "code",
   "execution_count": 18,
   "id": "21a44fa4",
   "metadata": {},
   "outputs": [
    {
     "name": "stdout",
     "output_type": "stream",
     "text": [
      "Name = monika Age = 25\n"
     ]
    }
   ],
   "source": [
    "def details(name =\" \", age=int):\n",
    "    print(\"Name = %s Age = %d\" %(name,age))\n",
    "details(\"monika\",25)"
   ]
  },
  {
   "cell_type": "code",
   "execution_count": 19,
   "id": "e0b34c21",
   "metadata": {},
   "outputs": [
    {
     "data": {
      "text/plain": [
       "'A'"
      ]
     },
     "execution_count": 19,
     "metadata": {},
     "output_type": "execute_result"
    }
   ],
   "source": [
    "def details (name=\" \",age=int,job_role=\"\"):\n",
    "    #print(\"Name is %s age is %d and job role is %s\"%(name,age,job_role))\n",
    "    return name\n",
    "\n",
    "details(\"A\",32,\"AC\")"
   ]
  },
  {
   "cell_type": "code",
   "execution_count": 20,
   "id": "3f22c0e0",
   "metadata": {},
   "outputs": [
    {
     "name": "stdout",
     "output_type": "stream",
     "text": [
      "input first num= 2\n",
      "input second num= 3\n",
      "Enter your choice( +,*,-,/)/\n",
      "option not aviliable\n"
     ]
    }
   ],
   "source": [
    "#Functions with Arguments\n",
    "x=int(input(\"input first num= \"))\n",
    "y=int(input(\"input second num= \"))\n",
    "def cal(x,y):\n",
    "    choice=input(\"Enter your choice( +,*,-,/)\")\n",
    "    if choice==\"+\":\n",
    "        print(\"sum=\",x+y)\n",
    "    elif choice==\"-\":\n",
    "        print(\"sub=\",x-y)\n",
    "    elif choice==\"*\":\n",
    "        print(\"prod=\",x*y)\n",
    "    else:\n",
    "        print(\"option not aviliable\")\n",
    "cal(x,y)"
   ]
  },
  {
   "cell_type": "code",
   "execution_count": null,
   "id": "cc388641",
   "metadata": {},
   "outputs": [],
   "source": [
    "x = int(input(\"Enter 1st no.: \"))\n",
    "y = int(input(\"Enter 2nd no.: \"))\n",
    " \n",
    "def calci(x,y):\n",
    "    choice = input(\"Enter your choice i.e. +,-,*,/\")\n",
    "    if choice == \"+\":\n",
    "        print(\"Sum = \",x+y)\n",
    "    elif choice == \"-\":\n",
    "        print(\"Sub = \",x-y)\n",
    "    elif choice == \"*\":\n",
    "        print(\"Mul = \",x*y)\n",
    "    elif choice == \"/\" and y !=0:\n",
    "        print(\"Div = \",x/y)\n",
    "    else:\n",
    "        print(\"Invalid choice\")\n",
    "calci(x,y)"
   ]
  },
  {
   "cell_type": "markdown",
   "id": "e3e5c5e6",
   "metadata": {},
   "source": [
    "# Return() is not mandatory in Python\n",
    "To let a function return a value, use the return statement:"
   ]
  },
  {
   "cell_type": "code",
   "execution_count": 4,
   "id": "ff76dd04",
   "metadata": {},
   "outputs": [
    {
     "name": "stdout",
     "output_type": "stream",
     "text": [
      "7\n",
      "14\n"
     ]
    },
    {
     "data": {
      "text/plain": [
       "4"
      ]
     },
     "execution_count": 4,
     "metadata": {},
     "output_type": "execute_result"
    }
   ],
   "source": [
    "print(3+4)\n",
    "print(6+8)\n",
    "4"
   ]
  },
  {
   "cell_type": "code",
   "execution_count": 7,
   "id": "7f9a56c4",
   "metadata": {},
   "outputs": [
    {
     "data": {
      "text/plain": [
       "4"
      ]
     },
     "execution_count": 7,
     "metadata": {},
     "output_type": "execute_result"
    }
   ],
   "source": [
    "def te(x,y):\n",
    "    #print(x*y)\n",
    "    return x\n",
    "    \n",
    "te(8,7)\n",
    "te(4,5)"
   ]
  },
  {
   "cell_type": "markdown",
   "id": "ca151598",
   "metadata": {},
   "source": [
    "# Different variable class can be passed within a function"
   ]
  },
  {
   "cell_type": "code",
   "execution_count": 8,
   "id": "206fd718",
   "metadata": {},
   "outputs": [
    {
     "name": "stdout",
     "output_type": "stream",
     "text": [
      "Monika\t2\t6\n",
      "1\t2\t3\n"
     ]
    }
   ],
   "source": [
    "def Emp(name,age,f):\n",
    "   print(name,age,f,sep=\"\\t\")\n",
    "\n",
    "Emp(\"Monika\",2,6)\n",
    "Emp(1,2,3)"
   ]
  },
  {
   "cell_type": "code",
   "execution_count": 10,
   "id": "436832a6",
   "metadata": {},
   "outputs": [
    {
     "name": "stdout",
     "output_type": "stream",
     "text": [
      "The oldest employee is: er3\n",
      "The oldest employee is: B\n",
      "The oldest employee is: man\n"
     ]
    }
   ],
   "source": [
    "def dex(*emp):\n",
    "    print(\"The oldest employee is: \" + emp[-1])\n",
    "    \n",
    "dex(\"Abc\",\"ab12\",\"er3\")\n",
    "dex(\"A\",\"B\")\n",
    "dex (\"ram\",\"sam\",\"lam\",\"man\")"
   ]
  },
  {
   "cell_type": "code",
   "execution_count": 11,
   "id": "12968273",
   "metadata": {},
   "outputs": [
    {
     "name": "stdout",
     "output_type": "stream",
     "text": [
      "kiwi\n",
      "apple\n",
      "pie\n",
      "abc\n"
     ]
    }
   ],
   "source": [
    "def food(fruit):\n",
    "    for i in fruit:\n",
    "        print(i)\n",
    "\n",
    "fruit=[\"kiwi\",\"apple\",\"pie\",\"abc\"]\n",
    "\n",
    "food(fruit)\n",
    "    "
   ]
  },
  {
   "cell_type": "markdown",
   "id": "5b218c8c",
   "metadata": {},
   "source": [
    "# Practice Questions on Functions\n",
    "Q Write a Python function to sum all the numbers in a list."
   ]
  },
  {
   "cell_type": "code",
   "execution_count": 9,
   "id": "8f37347c",
   "metadata": {},
   "outputs": [
    {
     "data": {
      "text/plain": [
       "24"
      ]
     },
     "execution_count": 9,
     "metadata": {},
     "output_type": "execute_result"
    }
   ],
   "source": [
    "def sum(numbers):\n",
    "    total = 0\n",
    "    for x in numbers:    \n",
    "        total += x\n",
    "    return total\n",
    "#print(sum((12,34,55)))\n",
    "sum((12,12))"
   ]
  },
  {
   "cell_type": "markdown",
   "id": "488b6102",
   "metadata": {},
   "source": [
    "# Q Write a Python funtion to check whether a given number is the given range"
   ]
  },
  {
   "cell_type": "code",
   "execution_count": 14,
   "id": "d6cb2825",
   "metadata": {},
   "outputs": [
    {
     "name": "stdout",
     "output_type": "stream",
     "text": [
      " 15 is in the range\n"
     ]
    }
   ],
   "source": [
    "def test_range(n):\n",
    "    if n in range(12,50):\n",
    "        print( \" %s is in the range\"%str(n))\n",
    "    else :\n",
    "        print(\"The number is outside the given range.\")\n",
    "test_range(15)"
   ]
  },
  {
   "cell_type": "code",
   "execution_count": 15,
   "id": "e399bfef",
   "metadata": {},
   "outputs": [
    {
     "name": "stdout",
     "output_type": "stream",
     "text": [
      "Enter a stringr\n",
      "0 1\n"
     ]
    }
   ],
   "source": [
    "def breakdown():\n",
    "    x= input(\"Enter a string\")\n",
    "    countupper = 0\n",
    "    countlower = 0\n",
    "    for i in x:\n",
    "        if i.isupper():\n",
    "                countupper+=1\n",
    "        else:\n",
    "                countlower+=1\n",
    "    print(countupper, countlower)\n",
    "breakdown()"
   ]
  },
  {
   "cell_type": "code",
   "execution_count": 21,
   "id": "e5dd8024",
   "metadata": {},
   "outputs": [
    {
     "name": "stdout",
     "output_type": "stream",
     "text": [
      "Original String :  PRACTICE More\n",
      "No. of Upper case characters :  9\n",
      "No. of Lower case Characters :  3\n"
     ]
    }
   ],
   "source": [
    "###  Write a Python function that accepts a string and calculate the number of upper case letters and lower case letters\n",
    "def string_test(s):\n",
    "    d={\"UPPER_CASE\":0, \"LOWER_CASE\":0,\"SPACES_\":0}\n",
    "    for c in s:\n",
    "        if c.isupper():\n",
    "           d[\"UPPER_CASE\"]+=1\n",
    "        elif c.islower():\n",
    "           d[\"LOWER_CASE\"]+=1\n",
    "        else:\n",
    "           pass\n",
    "    print (\"Original String : \", s)\n",
    "    print (\"No. of Upper case characters : \", d[\"UPPER_CASE\"])\n",
    "    print (\"No. of Lower case Characters : \", d[\"LOWER_CASE\"])\n",
    "\n",
    "string_test(\"PRACTICE More\")"
   ]
  },
  {
   "cell_type": "markdown",
   "id": "f667da67",
   "metadata": {},
   "source": [
    "# lambda - one line function which can take any number of arguments\n",
    "Lamba Function\n",
    "\n",
    "The lambda keyword is used to create anonymous functions\n",
    "This function can have any number of arguments but only one expression, which is evaluated and returned.\n",
    "One is free to use lambda functions wherever function objects are required.\n",
    "You need to keep in your knowledge that lambda functions are syntactically restricted to a single expression."
   ]
  },
  {
   "cell_type": "code",
   "execution_count": 13,
   "id": "1f2f7f91",
   "metadata": {},
   "outputs": [
    {
     "data": {
      "text/plain": [
       "24.0"
      ]
     },
     "execution_count": 13,
     "metadata": {},
     "output_type": "execute_result"
    }
   ],
   "source": [
    "z= lambda a,b,c:a*b/c\n",
    "z(8,9,3)"
   ]
  },
  {
   "cell_type": "code",
   "execution_count": 16,
   "id": "5f3c1dc5",
   "metadata": {},
   "outputs": [
    {
     "data": {
      "text/plain": [
       "729"
      ]
     },
     "execution_count": 16,
     "metadata": {},
     "output_type": "execute_result"
    }
   ],
   "source": [
    "## Create a lamba function that returns cube of a number.\n",
    "z = lambda s:s*s*s\n",
    "z(9)"
   ]
  },
  {
   "cell_type": "code",
   "execution_count": 24,
   "id": "7a1d07e1",
   "metadata": {},
   "outputs": [
    {
     "data": {
      "text/plain": [
       "[2, 4, 4, 6, 8, 44, 20]"
      ]
     },
     "execution_count": 24,
     "metadata": {},
     "output_type": "execute_result"
    }
   ],
   "source": [
    "a=[2,4,-9,4,6,8,44,20,33]\n",
    "\n",
    "even_list = list(filter(lambda x:(x%2 == 0),a))\n",
    "even_list"
   ]
  },
  {
   "cell_type": "code",
   "execution_count": null,
   "id": "e93e6fe8",
   "metadata": {},
   "outputs": [],
   "source": [
    "z=[1,2,3,4]\n",
    "x=list(map(lambda y:(y+2),z))\n",
    "print(x)"
   ]
  },
  {
   "cell_type": "code",
   "execution_count": null,
   "id": "6b51c73a",
   "metadata": {},
   "outputs": [],
   "source": [
    "##Lambda functions can take any number of arguments\n",
    "x = lambda a, b,c : a**2+b*3+c\n",
    "print(x(5, 6,7)) "
   ]
  },
  {
   "cell_type": "markdown",
   "id": "2b2dbf2b",
   "metadata": {},
   "source": [
    "# Write a Python program to sort a list of tuples using Lambda"
   ]
  },
  {
   "cell_type": "markdown",
   "id": "8f667903",
   "metadata": {},
   "source": [
    "# The power of lambda is better shown when you use them as an anonymous function inside another function."
   ]
  },
  {
   "cell_type": "code",
   "execution_count": 27,
   "id": "47decdf1",
   "metadata": {},
   "outputs": [
    {
     "name": "stdout",
     "output_type": "stream",
     "text": [
      "12\n"
     ]
    }
   ],
   "source": [
    "def my(x):\n",
    "    print(4*x)\n",
    "my(3)"
   ]
  },
  {
   "cell_type": "code",
   "execution_count": null,
   "id": "ee87f45a",
   "metadata": {},
   "outputs": [],
   "source": [
    "def myfunc(n):\n",
    "  print(\"The number:\",n)\n",
    "  return lambda a : n**a\n",
    "  \n",
    "r = myfunc(2)\n",
    "\n",
    "print(r(3))"
   ]
  },
  {
   "cell_type": "code",
   "execution_count": null,
   "id": "344e44e9",
   "metadata": {},
   "outputs": [],
   "source": [
    "def mydata(n):\n",
    "  return lambda a,b:(a+b)*n\n",
    "var = mydata(4)\n",
    "print(var(2,3))"
   ]
  },
  {
   "cell_type": "markdown",
   "id": "e92c4c65",
   "metadata": {},
   "source": [
    "# Date Time Module"
   ]
  },
  {
   "cell_type": "code",
   "execution_count": 32,
   "id": "b6d560d4",
   "metadata": {},
   "outputs": [
    {
     "data": {
      "text/plain": [
       "'Mon Jan 30 17:36:29 2023'"
      ]
     },
     "execution_count": 32,
     "metadata": {},
     "output_type": "execute_result"
    }
   ],
   "source": [
    "## Time Module:\n",
    "from time import time, ctime\n",
    "t = time()\n",
    "\n",
    "ctime(t)## for current time"
   ]
  },
  {
   "cell_type": "code",
   "execution_count": 33,
   "id": "e9b8e540",
   "metadata": {},
   "outputs": [
    {
     "name": "stdout",
     "output_type": "stream",
     "text": [
      "time.struct_time(tm_year=2023, tm_mon=1, tm_mday=30, tm_hour=17, tm_min=39, tm_sec=47, tm_wday=0, tm_yday=30, tm_isdst=0)\n"
     ]
    },
    {
     "data": {
      "text/plain": [
       "'India Standard Time'"
      ]
     },
     "execution_count": 33,
     "metadata": {},
     "output_type": "execute_result"
    }
   ],
   "source": [
    "import time\n",
    "current_local = time.localtime()\n",
    "current_local.tm_zone"
   ]
  },
  {
   "cell_type": "code",
   "execution_count": 34,
   "id": "a64335d1",
   "metadata": {},
   "outputs": [
    {
     "name": "stdout",
     "output_type": "stream",
     "text": [
      "01-23-30\n",
      "30/01/23|17:41:26\n"
     ]
    }
   ],
   "source": [
    "import time\n",
    "a=time.strftime('%m-%y-%d', time.localtime())\n",
    "\n",
    "t = time.strftime(\"%d/%m/%y|%H:%M:%S\")\n",
    "print (a)\n",
    "print(t)"
   ]
  },
  {
   "cell_type": "code",
   "execution_count": 35,
   "id": "d386e051",
   "metadata": {},
   "outputs": [
    {
     "name": "stdout",
     "output_type": "stream",
     "text": [
      "Hi\n",
      "Welcome\n"
     ]
    }
   ],
   "source": [
    "## %%time \n",
    "\n",
    "import time \n",
    "## Provide delay in a program\n",
    "print(\"Hi\")\n",
    "time.sleep(2)\n",
    "print(\"Welcome\")"
   ]
  },
  {
   "cell_type": "code",
   "execution_count": 36,
   "id": "3df96389",
   "metadata": {},
   "outputs": [
    {
     "name": "stdout",
     "output_type": "stream",
     "text": [
      "23/01/30|17:42:38\n"
     ]
    }
   ],
   "source": [
    "print(time.strftime(\"%y/%m/%d|%H:%M:%S\"))"
   ]
  },
  {
   "cell_type": "code",
   "execution_count": 37,
   "id": "97302129",
   "metadata": {},
   "outputs": [
    {
     "name": "stdout",
     "output_type": "stream",
     "text": [
      "Monday/January|Mon/Jan\n",
      "17:42:PM\n",
      "+0530\n"
     ]
    }
   ],
   "source": [
    "Tstr=time.strftime(\"%A/%B|%a/%b\") # Day|MONTH\n",
    "print(Tstr)\n",
    "tstr=time.strftime(\"%H:%M:%p\")# Current time IN AM/PM\n",
    "print(tstr)\n",
    "w=time.strftime(\"%z\")\n",
    "print(w)"
   ]
  },
  {
   "cell_type": "code",
   "execution_count": 38,
   "id": "9c637e55",
   "metadata": {},
   "outputs": [
    {
     "name": "stdout",
     "output_type": "stream",
     "text": [
      "Current date and time:  2023-01-30 17:42:54.901279\n",
      "Current year:  2023\n",
      "Month of year:  January\n",
      "Week number of the year:  05\n",
      "Weekday of the week:  1\n",
      "Day of year:  030\n",
      "Day of the month :  30\n",
      "Day of week:  Monday\n"
     ]
    }
   ],
   "source": [
    "import datetime \n",
    "print(\"Current date and time: \" , datetime.datetime.now())\n",
    "print(\"Current year: \", datetime.date.today().strftime(\"%Y\"))\n",
    "print(\"Month of year: \", datetime.date.today().strftime(\"%B\"))#%b\n",
    "print(\"Week number of the year: \", datetime.date.today().strftime(\"%W\"))\n",
    "print(\"Weekday of the week: \", datetime.date.today().strftime(\"%w\"))\n",
    "print(\"Day of year: \", datetime.date.today().strftime(\"%j\"))\n",
    "print(\"Day of the month : \", datetime.date.today().strftime(\"%d\"))\n",
    "print(\"Day of week: \", datetime.date.today().strftime(\"%A\"))"
   ]
  },
  {
   "cell_type": "code",
   "execution_count": 39,
   "id": "087ec221",
   "metadata": {},
   "outputs": [
    {
     "name": "stdout",
     "output_type": "stream",
     "text": [
      "0\n",
      "1\n",
      "2\n",
      "3\n",
      "4\n",
      "5\n",
      "6\n",
      "7\n",
      "8\n",
      "9\n",
      "Runtime of the program is 1.0004818439483643\n"
     ]
    }
   ],
   "source": [
    "## Python code to check time of execution of a program \n",
    "# starting time\n",
    "start = time.time()\n",
    "\n",
    "# program body starts\n",
    "for i in range(10):\n",
    "    print(i)\n",
    "\n",
    "# sleeping for 1 sec to get 10 sec runtime\n",
    "time.sleep(1)\n",
    "\n",
    "# program body ends\n",
    "\n",
    "# end time\n",
    "end = time.time()\n",
    "\n",
    "# total time taken\n",
    "print(f\"Runtime of the program is {end - start}\")"
   ]
  },
  {
   "cell_type": "markdown",
   "id": "2aa04709",
   "metadata": {},
   "source": [
    "# Classes in Python &OO programming"
   ]
  },
  {
   "cell_type": "code",
   "execution_count": 40,
   "id": "065ddf78",
   "metadata": {},
   "outputs": [
    {
     "data": {
      "text/plain": [
       "__main__.Program1"
      ]
     },
     "execution_count": 40,
     "metadata": {},
     "output_type": "execute_result"
    }
   ],
   "source": [
    "class  Program1:\n",
    "    \"HI\"   \n",
    "#print(Program1)#Tell about status of class.\n",
    "Program1"
   ]
  },
  {
   "cell_type": "code",
   "execution_count": 41,
   "id": "6ab229bf",
   "metadata": {},
   "outputs": [
    {
     "name": "stdout",
     "output_type": "stream",
     "text": [
      "NAME is RAM and age is 29\n"
     ]
    }
   ],
   "source": [
    "class Program1:\n",
    "    name=\"RAM\"\n",
    "    age = 29\n",
    "print(\"NAME is %s and age is %d\"%(Program1.name,Program1.age))"
   ]
  },
  {
   "cell_type": "code",
   "execution_count": 42,
   "id": "de68e201",
   "metadata": {},
   "outputs": [
    {
     "name": "stdout",
     "output_type": "stream",
     "text": [
      "A 9\n",
      "B 32\n"
     ]
    }
   ],
   "source": [
    "# Create a class name mobile store, Price=0.0,Type=\"\",Brand, Three \n",
    "class empdetails:\n",
    "    name=\"RAM\"\n",
    "    age = 29\n",
    "Emp1= empdetails()\n",
    "Emp2 = empdetails()\n",
    "\n",
    "Emp1.name =\"A\"\n",
    "Emp1.age = 9\n",
    "Emp2.name = \"B\"\n",
    "Emp2.age = 32    \n",
    "#print(\" %s   %d \"%(Emp1.name,Emp1.age))\n",
    "#print(\" %s   %d \"%(Emp2.name,Emp2.age))\n",
    "for x in range(1,3):\n",
    "        print(eval(\"Emp%d.name\"%(x)), eval(\"Emp%d.age\"%(x)))"
   ]
  },
  {
   "cell_type": "markdown",
   "id": "ba312f57",
   "metadata": {},
   "source": [
    "# - self is used to represent the instance of the class. With this keyword, you can access the attributes and methods class in python. it helps to bind attributes with the given arguments.\n",
    "- In Python we have methods that make the intance to be passed automatically, but not received automatically."
   ]
  },
  {
   "cell_type": "code",
   "execution_count": null,
   "id": "ffef8ffa",
   "metadata": {},
   "outputs": [],
   "source": [
    "class X:\n",
    "    \"Classses and functions\"\n",
    "    myroll= 9\n",
    "    def  student(self):\n",
    "        print('This is Science Class')\n",
    "rani = X()\n",
    "print(X.student)\n",
    "print(rani.student)\n",
    "rani.student()"
   ]
  },
  {
   "cell_type": "code",
   "execution_count": null,
   "id": "47c5f55c",
   "metadata": {},
   "outputs": [],
   "source": [
    "class Y:\n",
    "     a = 9\n",
    "     b = 3.3\n",
    "     c = 23.4\n",
    "     d = 0.0\n",
    "     def details(r):\n",
    "        r.c= r.a * r.b \n",
    "        r.d = r.a/r.b\n",
    "        t=round(r.d,3)\n",
    "        print(r.c,t,sep=\",\")\n",
    "cal1=Y()\n",
    "cal2= Y()\n",
    "cal1.a=5\n",
    "cal1.b=4.7\n",
    "cal1.details()"
   ]
  },
  {
   "cell_type": "code",
   "execution_count": null,
   "id": "3b286ffe",
   "metadata": {},
   "outputs": [],
   "source": [
    "### Class and Function\n",
    "\n",
    "\n",
    "class Shop:\n",
    "        \"Things in MYshop\"\n",
    "        Quantity = 10\n",
    "        Type       =   \"\"\n",
    "        price=500.00\n",
    "        def bill(self):\n",
    "            print(\"your bill for  % s dress of %d quantity is %drs:\"%(self.Type,self.Quantity,self.price))\n",
    "coustmer1=Shop()\n",
    "coustmer1.Quantity=5\n",
    "coustmer1.Type=\"saree\"\n",
    "coustmer1.price=20000\n",
    "coustmer1.bill()\n",
    "print(50*\"*\")"
   ]
  },
  {
   "cell_type": "code",
   "execution_count": null,
   "id": "140bd113",
   "metadata": {},
   "outputs": [],
   "source": [
    "# dictionary from an class's fields.\n",
    "class dObj():\n",
    "     def __init__(self):\n",
    "         self.x = 'age'\n",
    "         self.y = 'name'\n",
    "         self.z = 'Gender'\n",
    "     def do(self):\n",
    "         pass\n",
    "d = dObj()\n",
    "print(d.__dict__)"
   ]
  },
  {
   "cell_type": "markdown",
   "id": "a502b892",
   "metadata": {},
   "source": [
    "# WHILE LOOP"
   ]
  },
  {
   "cell_type": "code",
   "execution_count": null,
   "id": "145d0856",
   "metadata": {},
   "outputs": [],
   "source": []
  }
 ],
 "metadata": {
  "kernelspec": {
   "display_name": "Python 3 (ipykernel)",
   "language": "python",
   "name": "python3"
  },
  "language_info": {
   "codemirror_mode": {
    "name": "ipython",
    "version": 3
   },
   "file_extension": ".py",
   "mimetype": "text/x-python",
   "name": "python",
   "nbconvert_exporter": "python",
   "pygments_lexer": "ipython3",
   "version": "3.9.13"
  }
 },
 "nbformat": 4,
 "nbformat_minor": 5
}
