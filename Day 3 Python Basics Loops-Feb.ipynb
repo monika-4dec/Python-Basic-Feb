{
 "cells": [
  {
   "cell_type": "raw",
   "id": "d294a74f",
   "metadata": {},
   "source": [
    "# For loop: starting----->ending point\n",
    "\n",
    "for item in list_of_items:\n",
    "    do something to each item"
   ]
  },
  {
   "cell_type": "code",
   "execution_count": null,
   "id": "a55ddcf9",
   "metadata": {},
   "outputs": [],
   "source": [
    "fruits=[\"apple\",\"peach\",\"pear\"]\n",
    "for i in fruits:\n",
    "    print(i)\n",
    "#H0w to print , say, apple pie, peach pie or pear pie"
   ]
  },
  {
   "cell_type": "code",
   "execution_count": 2,
   "id": "45cec146",
   "metadata": {},
   "outputs": [
    {
     "name": "stdout",
     "output_type": "stream",
     "text": [
      "1\n",
      "2\n"
     ]
    }
   ],
   "source": [
    "for i in range(1,3):\n",
    "    print(i)\n",
    "    \n",
    "\n",
    "for i in range(1,3):\n",
    "    print(\"hi\")\n",
    "\n",
    "for i in range (1,4):\n",
    "    print(\"Hello\")"
   ]
  },
  {
   "cell_type": "markdown",
   "id": "4e9ca8d5",
   "metadata": {},
   "source": [
    "# Exercise"
   ]
  },
  {
   "cell_type": "code",
   "execution_count": 11,
   "id": "b6a35bfa",
   "metadata": {},
   "outputs": [
    {
     "name": "stdout",
     "output_type": "stream",
     "text": [
      "17\n"
     ]
    }
   ],
   "source": [
    "a=23\n",
    "#a+=5 #increment operator\n",
    "a-=1 #decrement operator\n",
    "print(a)"
   ]
  },
  {
   "cell_type": "code",
   "execution_count": 12,
   "id": "3cf612e6",
   "metadata": {},
   "outputs": [
    {
     "name": "stdout",
     "output_type": "stream",
     "text": [
      "Input a list of student heights 145 178 165 145 175\n",
      "total height =  808\n",
      "number of students =  5\n",
      "161.6\n"
     ]
    }
   ],
   "source": [
    "student_heights = input(\"Input a list of student heights \").split()\n",
    "for n in range(0, len(student_heights)):\n",
    "  student_heights[n] = int(student_heights[n])\n",
    "total_height = 0\n",
    "for height in student_heights:\n",
    "  total_height += height\n",
    "\n",
    "print(\"total height = \", total_height)\n",
    "number_of_students = 0\n",
    "for student in student_heights:\n",
    "  number_of_students += 1\n",
    "\n",
    "print(\"number of students = \", number_of_students)  \n",
    "average_height = (total_height / number_of_students)\n",
    "print(average_height)"
   ]
  },
  {
   "cell_type": "code",
   "execution_count": 13,
   "id": "aac8122a",
   "metadata": {},
   "outputs": [
    {
     "name": "stdout",
     "output_type": "stream",
     "text": [
      "dict_values([1, 2])\n",
      "dict_values([1, 2])\n"
     ]
    }
   ],
   "source": [
    "b={\"a\":1,\"b\":2}\n",
    "for i in b:\n",
    "    print(b.values())"
   ]
  },
  {
   "cell_type": "markdown",
   "id": "00696073",
   "metadata": {},
   "source": [
    "# Iteration in Loops"
   ]
  },
  {
   "cell_type": "code",
   "execution_count": 53,
   "id": "5b1e5843",
   "metadata": {},
   "outputs": [
    {
     "name": "stdout",
     "output_type": "stream",
     "text": [
      "List Iteration\n",
      "22\n",
      "33\n",
      "Data\n"
     ]
    }
   ],
   "source": [
    "print(\"List Iteration\")\n",
    "l = [22, 33, \"Data\"]\n",
    "for i in l:\n",
    "    print(i)"
   ]
  },
  {
   "cell_type": "code",
   "execution_count": 54,
   "id": "b4636bcb",
   "metadata": {},
   "outputs": [
    {
     "name": "stdout",
     "output_type": "stream",
     "text": [
      "\n",
      "Tuple Iteration\n",
      "Python\n",
      "Data\n"
     ]
    }
   ],
   "source": [
    "# Iterating over a tuple (immutable)\n",
    "print(\"\\nTuple Iteration\")\n",
    "t = (\"Python\", \"Data\",)\n",
    "for i in t:\n",
    "    print(i)"
   ]
  },
  {
   "cell_type": "code",
   "execution_count": 57,
   "id": "2ff112da",
   "metadata": {},
   "outputs": [
    {
     "name": "stdout",
     "output_type": "stream",
     "text": [
      "\n",
      "String Iteration\n",
      "M\n",
      "o\n",
      "n\n",
      "i\n",
      "k\n",
      "a\n"
     ]
    }
   ],
   "source": [
    "# Iterating over a String\n",
    "print(\"\\nString Iteration\")\n",
    "s = \"Monika\"\n",
    "for i in s:\n",
    "    print(i)"
   ]
  },
  {
   "cell_type": "code",
   "execution_count": 58,
   "id": "ec1add29",
   "metadata": {},
   "outputs": [
    {
     "name": "stdout",
     "output_type": "stream",
     "text": [
      "\n",
      "Dictionary Iteration\n",
      "100 red\n",
      "201 pink\n"
     ]
    }
   ],
   "source": [
    "# Iterating over dictionary\n",
    "print(\"\\nDictionary Iteration\")\n",
    "d = dict()\n",
    "d['red'] = 100\n",
    "d['pink'] = 201\n",
    "for i in d:\n",
    "    print(\"%d %s\" % (d[i], i))"
   ]
  },
  {
   "cell_type": "code",
   "execution_count": 59,
   "id": "22077d32",
   "metadata": {},
   "outputs": [
    {
     "name": "stdout",
     "output_type": "stream",
     "text": [
      "\n",
      "Set Iteration\n",
      "1\n",
      "2\n",
      "3\n",
      "4\n",
      "6\n"
     ]
    }
   ],
   "source": [
    "# Iterating over a set\n",
    "print(\"\\nSet Iteration\")\n",
    "set1 = {1, 2, 3, 4, 4, 6}\n",
    "for i in set1:\n",
    "    print(i)"
   ]
  },
  {
   "cell_type": "raw",
   "id": "3f384b4e",
   "metadata": {},
   "source": [
    "##Iterations in loops:\n",
    "\n",
    "print(\"List Iteration\")\n",
    "l = [22, 33, \"Data\"]\n",
    "for i in l:\n",
    "    print(i)\n",
    "\n",
    "# Iterating over a tuple (immutable)\n",
    "print(\"\\nTuple Iteration\")\n",
    "t = (\"Python\", \"Data\",)\n",
    "for i in t:\n",
    "    print(i)\n",
    "\n",
    "# Iterating over a String\n",
    "print(\"\\nString Iteration\")\n",
    "s = \"Python\"\n",
    "for i in s:\n",
    "    print(i)\n",
    "\n",
    "# Iterating over dictionary\n",
    "print(\"\\nDictionary Iteration\")\n",
    "d = dict()\n",
    "d['red'] = 100\n",
    "d['pink'] = 201\n",
    "for i in d:\n",
    "    print(\"%s %d\" % (i, d[i]))\n",
    "\n",
    "# Iterating over a set\n",
    "print(\"\\nSet Iteration\")\n",
    "set1 = {1, 2, 3, 4, 4, 6}\n",
    "for i in set1:\n",
    "    print(i)"
   ]
  },
  {
   "cell_type": "raw",
   "id": "056ff09c",
   "metadata": {},
   "source": [
    "Using for loop with a range function.\n",
    "Syntax:-\n",
    "\n",
    "for number in range(a,b):\n",
    "    print(number)"
   ]
  },
  {
   "cell_type": "code",
   "execution_count": 60,
   "id": "d7121b28",
   "metadata": {},
   "outputs": [
    {
     "name": "stdout",
     "output_type": "stream",
     "text": [
      "1\n",
      "2\n",
      "3\n",
      "4\n",
      "5\n",
      "6\n",
      "7\n",
      "8\n",
      "9\n"
     ]
    }
   ],
   "source": [
    "for number in range(1,10):\n",
    "    print(number)"
   ]
  },
  {
   "cell_type": "code",
   "execution_count": 14,
   "id": "f07bac48",
   "metadata": {},
   "outputs": [
    {
     "name": "stdout",
     "output_type": "stream",
     "text": [
      "1\n",
      "4\n",
      "7\n"
     ]
    }
   ],
   "source": [
    "for number in range(1,10,3):\n",
    "    print(number)"
   ]
  },
  {
   "cell_type": "code",
   "execution_count": 15,
   "id": "bbe9e4aa",
   "metadata": {},
   "outputs": [
    {
     "name": "stdout",
     "output_type": "stream",
     "text": [
      "Enter number of elements10\n",
      "Enter any number5\n",
      "[5, 5, 5, 5, 5, 5, 5, 5, 5, 5]\n"
     ]
    }
   ],
   "source": [
    "## Write a script to input a numerical list of user input length\n",
    "l=[]\n",
    "n=int(input(\"Enter number of elements\"))\n",
    "x=int(input(\"Enter any number\"))\n",
    "for i in range (0,n):\n",
    "        l.append(x)\n",
    "print(l)"
   ]
  },
  {
   "cell_type": "code",
   "execution_count": 16,
   "id": "cfbbded8",
   "metadata": {},
   "outputs": [
    {
     "name": "stdout",
     "output_type": "stream",
     "text": [
      "Enter Sr. No: 5\n",
      "Enter color: pink\n",
      "{5: 'pink'}\n"
     ]
    }
   ],
   "source": [
    "#Create a dic with s.no as keys and colors as values\n",
    "d = {}\n",
    "\n",
    "a = int(input(\"Enter Sr. No: \"))\n",
    "b = input(\"Enter color: \") \n",
    "for i in range(0,a):\n",
    "    d[a] = b\n",
    "print(d)"
   ]
  },
  {
   "cell_type": "markdown",
   "id": "5f0d521c",
   "metadata": {},
   "source": [
    "# List Comprehension in Python\n",
    "List comprehension saves time because it requires fewer lines of code than loops. It makes the code more user-friendly by keeping it simple. Furthermore, list comprehension covers the incorporation of an iterative statement into a formula.\n",
    "\n",
    "Python provides several methods for creating lists. The list comprehension feature is one of the most effective of these methods. It allows you to create lists with just one line of code\n",
    "It can be used to create new lists from other iterable elements such as arrays, strings, tuples, lists, and so on. It consists of brackets containing the expression. To iterate over all of the elements, the system uses the for loop to execute the expression for each one\n",
    "When you use list comprehension instead of loops, you can create a list with far less effort and code.# "
   ]
  },
  {
   "cell_type": "code",
   "execution_count": 21,
   "id": "3dc4360d",
   "metadata": {},
   "outputs": [
    {
     "name": "stdout",
     "output_type": "stream",
     "text": [
      "8\n",
      "7\n",
      "6\n",
      "5\n",
      "4\n",
      "3\n",
      "2\n",
      "[8, 7, 6, 5, 4, 3, 2]\n"
     ]
    }
   ],
   "source": [
    "for i in range(8,1,-1):\n",
    "    print(i)\n",
    "\n",
    "a = [i for i in range(8,1,-1)]\n",
    "print(a)"
   ]
  },
  {
   "cell_type": "markdown",
   "id": "bcf48601",
   "metadata": {},
   "source": [
    "# List comprehension isn’t just for integers; it can also be applied to strings."
   ]
  },
  {
   "cell_type": "code",
   "execution_count": 19,
   "id": "b9c4c7e2",
   "metadata": {},
   "outputs": [
    {
     "name": "stdout",
     "output_type": "stream",
     "text": [
      "i\n",
      "h\n",
      "h\n"
     ]
    }
   ],
   "source": [
    "#Script to print last element of all list members\n",
    "w=[\"Basics\", \"ofshhksjlkj\", \"Python\"]\n",
    "for word in w:\n",
    "    print(word[3])"
   ]
  },
  {
   "cell_type": "code",
   "execution_count": 20,
   "id": "1c270fa7",
   "metadata": {},
   "outputs": [
    {
     "name": "stdout",
     "output_type": "stream",
     "text": [
      "['n', 'i', 's']\n",
      "[2, 6]\n"
     ]
    }
   ],
   "source": [
    "#Another way: Script to print last element of all list members\n",
    "\n",
    "w = [\"Programming\", \"is\", \"easy\"]\n",
    "result = [word[-2] for word in w]\n",
    "print(result)\n",
    "\n",
    "## Multiplication of two lists\n",
    "l=[1,2]\n",
    "m=[2,3]\n",
    "k=[]\n",
    "for i,j in l,m:\n",
    "    k.append(i*j )\n",
    "print(k)"
   ]
  },
  {
   "cell_type": "markdown",
   "id": "17cf73cd",
   "metadata": {},
   "source": [
    "# The for loop is a common way to iterate through a list. List comprehension, on the other hand, is a more efficient way to iterate through a list because it requires fewer lines of code.\n",
    "List comprehension requires less computation power than a for loop because it takes up less space and code. This is useful when working on large programs, as efficiency becomes a major consideration when the code is lengthy."
   ]
  },
  {
   "cell_type": "code",
   "execution_count": 40,
   "id": "17eb860a",
   "metadata": {},
   "outputs": [
    {
     "name": "stdout",
     "output_type": "stream",
     "text": [
      "[0, 2, 4, 6, 8, 10, 12, 14, 16, 18]\n"
     ]
    }
   ],
   "source": [
    "# creating the empty list\n",
    "old_list = []\n",
    " # we will use the for loop to create the new list\n",
    "for x in range(10):\n",
    " old_list.append(x*2)\n",
    "print (old_list )"
   ]
  },
  {
   "cell_type": "code",
   "execution_count": 41,
   "id": "c172dab0",
   "metadata": {},
   "outputs": [
    {
     "name": "stdout",
     "output_type": "stream",
     "text": [
      "[0, 2, 4, 6, 8, 10, 12, 14, 16, 18]\n"
     ]
    }
   ],
   "source": [
    "# creating the set with the help of list comprehension\n",
    "old_list = [x*2 for x in range(10)]\n",
    "print (old_list)\n",
    "\n",
    "#Using if with List Comprehension\n",
    "even_list = [ i for i in range(10) if i % 2 == 0]\n",
    "print(even_list)\n",
    "\n",
    "filtered_list = [ x for x in range(50) if x % 2 == 0 if x % 5 == 0]   \n",
    "#If x satisfies both conditions, x is appended to filtered_list.\n",
    "print(filtered_list)\n",
    "\n",
    "\n",
    "l = [\"even\" if y%2==0 else \"odd\" for y in range(5)]\n",
    "print(l)\n",
    "# ist comprehension will check the five numbers from 0 to 4. \n",
    "#If y is divisible by 2, then even is appended to the obj list. If not, odd is appended."
   ]
  },
  {
   "cell_type": "markdown",
   "id": "38328442",
   "metadata": {},
   "source": [
    "# Questions for Practice!!\n",
    "1. Finding the elements in a list in which elements are ended with the letter ‘d’ and the length of that element is greater than 2."
   ]
  },
  {
   "cell_type": "code",
   "execution_count": 41,
   "id": "e5fd8666",
   "metadata": {},
   "outputs": [
    {
     "data": {
      "text/plain": [
       "['ABcD', 'acd', 'Red', 'Med']"
      ]
     },
     "execution_count": 41,
     "metadata": {},
     "output_type": "execute_result"
    }
   ],
   "source": [
    "names = ['ABcD','Cd','acd','bbB','fb','xa','Red','Med']  # This function filter out all the strings \n",
    "#from the list that are ended with the letters ‘d’ or ‘D’.\n",
    "sol = [name for name in names if name.lower().endswith('d') and len(name) > 2]\n",
    "sol"
   ]
  },
  {
   "cell_type": "markdown",
   "id": "f369fd13",
   "metadata": {},
   "source": [
    "# 2. Reverse each String in a Tuple using List Comprehension"
   ]
  },
  {
   "cell_type": "code",
   "execution_count": 1,
   "id": "de8c83ad",
   "metadata": {},
   "outputs": [],
   "source": [
    "a=\"life\""
   ]
  },
  {
   "cell_type": "code",
   "execution_count": 7,
   "id": "c54139d0",
   "metadata": {},
   "outputs": [
    {
     "data": {
      "text/plain": [
       "'e'"
      ]
     },
     "execution_count": 7,
     "metadata": {},
     "output_type": "execute_result"
    }
   ],
   "source": [
    "a[:-1]\n",
    "\n",
    "a[-1:]"
   ]
  },
  {
   "cell_type": "code",
   "execution_count": 2,
   "id": "e4a00c22",
   "metadata": {},
   "outputs": [
    {
     "data": {
      "text/plain": [
       "'lif'"
      ]
     },
     "execution_count": 2,
     "metadata": {},
     "output_type": "execute_result"
    }
   ],
   "source": [
    "a[::-1]"
   ]
  },
  {
   "cell_type": "code",
   "execution_count": 20,
   "id": "b4531b0e",
   "metadata": {},
   "outputs": [
    {
     "name": "stdout",
     "output_type": "stream",
     "text": [
      "['nohtyP', 'ataD', 'sisylanA']\n"
     ]
    }
   ],
   "source": [
    "a = [s[::-1] for s in ('Python', 'Data', 'Analysis')]\n",
    "# Display the list\n",
    "print(a)"
   ]
  },
  {
   "cell_type": "markdown",
   "id": "524fa3e4",
   "metadata": {},
   "source": [
    "# Dictionary comprehension\n",
    "Dictionary comprehension allows you to create dictionaries in Python, as the name implies."
   ]
  },
  {
   "cell_type": "code",
   "execution_count": 54,
   "id": "d1f251bb",
   "metadata": {},
   "outputs": [
    {
     "name": "stdout",
     "output_type": "stream",
     "text": [
      "{1: 'a', 2: 'b', 3: 'c', 4: 'd', 5: 'e', 6: 'f'}\n"
     ]
    }
   ],
   "source": [
    "# using Python to showcase dictionary comprehension\n",
    " # creation of two lists to represent keys and values\n",
    "keys = [1, 2, 3, 4, 5, 6]\n",
    "values = ['a', 'b', 'c', 'd', 'e', 'f']\n",
    " # implementing dictionary comprehension\n",
    "d = { k:v for (k,v) in zip(keys, values)}\n",
    "print(d)"
   ]
  },
  {
   "cell_type": "markdown",
   "id": "6e69bfc4",
   "metadata": {},
   "source": [
    "# While loop\n",
    "\n",
    "while something_is_true\n",
    "    Do somethings repeatedly\n",
    "    \n",
    "When the something_is_true becomes false, then the loop stops and comes out of it."
   ]
  },
  {
   "cell_type": "code",
   "execution_count": 56,
   "id": "15cf9718",
   "metadata": {},
   "outputs": [
    {
     "name": "stdout",
     "output_type": "stream",
     "text": [
      "1\n",
      "2\n",
      "3\n"
     ]
    }
   ],
   "source": [
    "i=1 #inti\n",
    "while i<4: #condit\n",
    "    print(i)\n",
    "    i=i+1"
   ]
  },
  {
   "cell_type": "code",
   "execution_count": 57,
   "id": "7f38b4d7",
   "metadata": {},
   "outputs": [
    {
     "name": "stdout",
     "output_type": "stream",
     "text": [
      "1\n",
      "2\n",
      "3\n"
     ]
    }
   ],
   "source": [
    "#Exit \n",
    "i=1\n",
    "while i<6:\n",
    "    print(i)\n",
    "    if i==3:\n",
    "        break\n",
    "    i+=1"
   ]
  },
  {
   "cell_type": "code",
   "execution_count": 58,
   "id": "f7396009",
   "metadata": {},
   "outputs": [
    {
     "name": "stdout",
     "output_type": "stream",
     "text": [
      "1\n",
      "2\n",
      "4\n",
      "5\n",
      "6\n"
     ]
    }
   ],
   "source": [
    "#continue\n",
    "i=0\n",
    "while i<6:\n",
    "    i+=1  \n",
    "    if i==3:\n",
    "        continue\n",
    "    print(i)"
   ]
  },
  {
   "cell_type": "markdown",
   "id": "6794defd",
   "metadata": {},
   "source": [
    "# Exercise: Print your name as many number of times as the user wants using while loop"
   ]
  },
  {
   "cell_type": "code",
   "execution_count": 3,
   "id": "962c7438",
   "metadata": {},
   "outputs": [
    {
     "name": "stdout",
     "output_type": "stream",
     "text": [
      "your name\n",
      "monika\n",
      "Hello monika\n",
      "Hello monika\n",
      "Hello monika\n",
      "Hello monika\n"
     ]
    }
   ],
   "source": [
    "n = 1\n",
    "a=input(\"your name\\n\")\n",
    "while n < 5:\n",
    "    print(\"Hello\"+\" \" +a)\n",
    "    n = n+1"
   ]
  },
  {
   "cell_type": "code",
   "execution_count": null,
   "id": "94ccfc81",
   "metadata": {},
   "outputs": [],
   "source": []
  }
 ],
 "metadata": {
  "kernelspec": {
   "display_name": "Python 3 (ipykernel)",
   "language": "python",
   "name": "python3"
  },
  "language_info": {
   "codemirror_mode": {
    "name": "ipython",
    "version": 3
   },
   "file_extension": ".py",
   "mimetype": "text/x-python",
   "name": "python",
   "nbconvert_exporter": "python",
   "pygments_lexer": "ipython3",
   "version": "3.9.13"
  }
 },
 "nbformat": 4,
 "nbformat_minor": 5
}
