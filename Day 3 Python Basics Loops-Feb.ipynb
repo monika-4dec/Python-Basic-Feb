{
 "cells": [
  {
   "cell_type": "raw",
   "id": "d294a74f",
   "metadata": {},
   "source": [
    "# For loop\n",
    "\n",
    "for item in list_of_items\n",
    "    do something to each item"
   ]
  },
  {
   "cell_type": "code",
   "execution_count": 3,
   "id": "9fbf46e3",
   "metadata": {},
   "outputs": [
    {
     "name": "stdout",
     "output_type": "stream",
     "text": [
      "apple\n",
      "peach\n",
      "pear\n"
     ]
    }
   ],
   "source": [
    "fruits=[\"apple\",\"peach\",\"pear\"]\n",
    "for i in fruits:\n",
    "    print(i)\n",
    "#H0w to print , say, apple pie, peach pie or pear pie"
   ]
  },
  {
   "cell_type": "code",
   "execution_count": 4,
   "id": "45cec146",
   "metadata": {},
   "outputs": [
    {
     "name": "stdout",
     "output_type": "stream",
     "text": [
      "1\n",
      "2\n"
     ]
    }
   ],
   "source": [
    "for i in range(1,3):\n",
    "    print(i)\n",
    "    "
   ]
  },
  {
   "cell_type": "code",
   "execution_count": 2,
   "id": "e1d15f43",
   "metadata": {},
   "outputs": [
    {
     "name": "stdout",
     "output_type": "stream",
     "text": [
      "hi\n",
      "hi\n"
     ]
    }
   ],
   "source": [
    "for i in range(1,3):\n",
    "    print(\"hi\")"
   ]
  },
  {
   "cell_type": "code",
   "execution_count": 2,
   "id": "7aa36597",
   "metadata": {},
   "outputs": [
    {
     "name": "stdout",
     "output_type": "stream",
     "text": [
      "Hello\n",
      "Hello\n",
      "Hello\n"
     ]
    }
   ],
   "source": [
    "for i in range (1,4):\n",
    "    print(\"Hello\")"
   ]
  },
  {
   "cell_type": "markdown",
   "id": "4e9ca8d5",
   "metadata": {},
   "source": [
    "# Exercise"
   ]
  },
  {
   "cell_type": "code",
   "execution_count": 8,
   "id": "b6a35bfa",
   "metadata": {},
   "outputs": [
    {
     "name": "stdout",
     "output_type": "stream",
     "text": [
      "24\n"
     ]
    }
   ],
   "source": [
    "a=23\n",
    "a+=1\n",
    "print(a)"
   ]
  },
  {
   "cell_type": "code",
   "execution_count": 14,
   "id": "3cf612e6",
   "metadata": {},
   "outputs": [
    {
     "name": "stdout",
     "output_type": "stream",
     "text": [
      "Input a list of student heights 132 145 \n",
      "total height =  277\n",
      "number of students = 2\n",
      "138\n"
     ]
    }
   ],
   "source": [
    "student_heights = input(\"Input a list of student heights \").split()\n",
    "for n in range(0, len(student_heights)):\n",
    "  student_heights[n] = int(student_heights[n])\n",
    "total_height = 0\n",
    "for height in student_heights:\n",
    "  total_height += height\n",
    "#print(f\"total height = {total_height}\")\n",
    "print(\"total height = \", total_height)\n",
    "number_of_students = 0\n",
    "for student in student_heights:\n",
    "  number_of_students += 1\n",
    "print(f\"number of students = {number_of_students}\")\n",
    "  \n",
    "average_height = round(total_height / number_of_students)\n",
    "print(average_height)"
   ]
  },
  {
   "cell_type": "code",
   "execution_count": 15,
   "id": "aac8122a",
   "metadata": {},
   "outputs": [
    {
     "name": "stdout",
     "output_type": "stream",
     "text": [
      "dict_values([1, 2])\n",
      "dict_values([1, 2])\n"
     ]
    }
   ],
   "source": [
    "b={\"a\":1,\"b\":2}\n",
    "for i in b:\n",
    "    print(b.values())"
   ]
  },
  {
   "cell_type": "markdown",
   "id": "00696073",
   "metadata": {},
   "source": [
    "# Iteration in Loops"
   ]
  },
  {
   "cell_type": "code",
   "execution_count": 16,
   "id": "5b1e5843",
   "metadata": {},
   "outputs": [
    {
     "name": "stdout",
     "output_type": "stream",
     "text": [
      "List Iteration\n",
      "22\n",
      "33\n",
      "Data\n"
     ]
    }
   ],
   "source": [
    "print(\"List Iteration\")\n",
    "l = [22, 33, \"Data\"]\n",
    "for i in l:\n",
    "    print(i)"
   ]
  },
  {
   "cell_type": "code",
   "execution_count": 17,
   "id": "b4636bcb",
   "metadata": {},
   "outputs": [
    {
     "name": "stdout",
     "output_type": "stream",
     "text": [
      "\n",
      "Tuple Iteration\n",
      "Python\n",
      "Data\n"
     ]
    }
   ],
   "source": [
    "# Iterating over a tuple (immutable)\n",
    "print(\"\\nTuple Iteration\")\n",
    "t = (\"Python\", \"Data\",)\n",
    "for i in t:\n",
    "    print(i)"
   ]
  },
  {
   "cell_type": "code",
   "execution_count": 18,
   "id": "2ff112da",
   "metadata": {},
   "outputs": [
    {
     "name": "stdout",
     "output_type": "stream",
     "text": [
      "\n",
      "String Iteration\n",
      "P\n",
      "y\n",
      "t\n",
      "h\n",
      "o\n",
      "n\n"
     ]
    }
   ],
   "source": [
    "# Iterating over a String\n",
    "print(\"\\nString Iteration\")\n",
    "s = \"Python\"\n",
    "for i in s:\n",
    "    print(i)"
   ]
  },
  {
   "cell_type": "code",
   "execution_count": 19,
   "id": "ec1add29",
   "metadata": {},
   "outputs": [
    {
     "name": "stdout",
     "output_type": "stream",
     "text": [
      "\n",
      "Dictionary Iteration\n",
      "red 100\n",
      "pink 201\n"
     ]
    }
   ],
   "source": [
    "# Iterating over dictionary\n",
    "print(\"\\nDictionary Iteration\")\n",
    "d = dict()\n",
    "d['red'] = 100\n",
    "d['pink'] = 201\n",
    "for i in d:\n",
    "    print(\"%s %d\" % (i, d[i]))"
   ]
  },
  {
   "cell_type": "code",
   "execution_count": 20,
   "id": "22077d32",
   "metadata": {},
   "outputs": [
    {
     "name": "stdout",
     "output_type": "stream",
     "text": [
      "\n",
      "Set Iteration\n",
      "1\n",
      "2\n",
      "3\n",
      "4\n",
      "6\n"
     ]
    }
   ],
   "source": [
    "# Iterating over a set\n",
    "print(\"\\nSet Iteration\")\n",
    "set1 = {1, 2, 3, 4, 4, 6}\n",
    "for i in set1:\n",
    "    print(i)"
   ]
  },
  {
   "cell_type": "raw",
   "id": "3f384b4e",
   "metadata": {},
   "source": [
    "##Iterations in loops:\n",
    "\n",
    "print(\"List Iteration\")\n",
    "l = [22, 33, \"Data\"]\n",
    "for i in l:\n",
    "    print(i)\n",
    "\n",
    "# Iterating over a tuple (immutable)\n",
    "print(\"\\nTuple Iteration\")\n",
    "t = (\"Python\", \"Data\",)\n",
    "for i in t:\n",
    "    print(i)\n",
    "\n",
    "# Iterating over a String\n",
    "print(\"\\nString Iteration\")\n",
    "s = \"Python\"\n",
    "for i in s:\n",
    "    print(i)\n",
    "\n",
    "# Iterating over dictionary\n",
    "print(\"\\nDictionary Iteration\")\n",
    "d = dict()\n",
    "d['red'] = 100\n",
    "d['pink'] = 201\n",
    "for i in d:\n",
    "    print(\"%s %d\" % (i, d[i]))\n",
    "\n",
    "# Iterating over a set\n",
    "print(\"\\nSet Iteration\")\n",
    "set1 = {1, 2, 3, 4, 4, 6}\n",
    "for i in set1:\n",
    "    print(i)"
   ]
  },
  {
   "cell_type": "raw",
   "id": "056ff09c",
   "metadata": {},
   "source": [
    "Using for loop with a range function.\n",
    "Syntax:-\n",
    "\n",
    "for number in range(a,b):\n",
    "    print(number)"
   ]
  },
  {
   "cell_type": "code",
   "execution_count": 8,
   "id": "d7121b28",
   "metadata": {},
   "outputs": [
    {
     "name": "stdout",
     "output_type": "stream",
     "text": [
      "1\n",
      "2\n",
      "3\n",
      "4\n",
      "5\n",
      "6\n",
      "7\n",
      "8\n",
      "9\n"
     ]
    }
   ],
   "source": [
    "for number in range(1,10):\n",
    "    print(number)"
   ]
  },
  {
   "cell_type": "code",
   "execution_count": 9,
   "id": "f07bac48",
   "metadata": {},
   "outputs": [
    {
     "name": "stdout",
     "output_type": "stream",
     "text": [
      "1\n",
      "4\n",
      "7\n"
     ]
    }
   ],
   "source": [
    "for number in range(1,10,3):\n",
    "    print(number)"
   ]
  },
  {
   "cell_type": "code",
   "execution_count": 22,
   "id": "bbe9e4aa",
   "metadata": {},
   "outputs": [
    {
     "name": "stdout",
     "output_type": "stream",
     "text": [
      "Enter number of elements5\n",
      "Enter any number12\n",
      "[12, 12, 12, 12, 12]\n"
     ]
    }
   ],
   "source": [
    "## Write a script to input a numerical list of user input length\n",
    "l=[]\n",
    "n=int(input(\"Enter number of elements\"))\n",
    "x=int(input(\"Enter any number\"))\n",
    "for i in range (0,n):\n",
    "        l.append(x)\n",
    "print(l)"
   ]
  },
  {
   "cell_type": "code",
   "execution_count": 2,
   "id": "cfbbded8",
   "metadata": {},
   "outputs": [
    {
     "name": "stdout",
     "output_type": "stream",
     "text": [
      "Enter Sr. No: 2\n",
      "Enter color: red\n",
      "{2: 'red'}\n"
     ]
    }
   ],
   "source": [
    "#Create a dic with s.no as keys and colors as values\n",
    "d = {}\n",
    "\n",
    "a = int(input(\"Enter Sr. No: \"))\n",
    "b = input(\"Enter color: \") \n",
    "for i in range(0,a):\n",
    "    d[a] = b\n",
    "print(d)"
   ]
  },
  {
   "cell_type": "markdown",
   "id": "5f0d521c",
   "metadata": {},
   "source": [
    "# List Comprehension in Python\n",
    "List comprehension saves time because it requires fewer lines of code than loops. It makes the code more user-friendly by keeping it simple. Furthermore, list comprehension covers the incorporation of an iterative statement into a formula.\n",
    "\n",
    "Python provides several methods for creating lists. The list comprehension feature is one of the most effective of these methods. It allows you to create lists with just one line of code\n",
    "It can be used to create new lists from other iterable elements such as arrays, strings, tuples, lists, and so on. It consists of brackets containing the expression. To iterate over all of the elements, the system uses the for loop to execute the expression for each one\n",
    "When you use list comprehension instead of loops, you can create a list with far less effort and code.# "
   ]
  },
  {
   "cell_type": "code",
   "execution_count": 6,
   "id": "3dc4360d",
   "metadata": {},
   "outputs": [
    {
     "name": "stdout",
     "output_type": "stream",
     "text": [
      "8\n",
      "7\n",
      "6\n",
      "5\n",
      "4\n",
      "3\n",
      "2\n"
     ]
    }
   ],
   "source": [
    "for i in range(8,1,-1):\n",
    "    print(i)"
   ]
  },
  {
   "cell_type": "code",
   "execution_count": 3,
   "id": "24221652",
   "metadata": {},
   "outputs": [
    {
     "name": "stdout",
     "output_type": "stream",
     "text": [
      "[8, 7, 6, 5, 4, 3, 2]\n"
     ]
    }
   ],
   "source": [
    "a = [i for i in range(8,1,-1)]\n",
    "print(a)"
   ]
  },
  {
   "cell_type": "markdown",
   "id": "bcf48601",
   "metadata": {},
   "source": [
    "# List comprehension isn’t just for integers; it can also be applied to strings."
   ]
  },
  {
   "cell_type": "code",
   "execution_count": 7,
   "id": "b9c4c7e2",
   "metadata": {},
   "outputs": [
    {
     "name": "stdout",
     "output_type": "stream",
     "text": [
      "c\n",
      "o\n",
      "o\n"
     ]
    }
   ],
   "source": [
    "#Script to print last element of all list members\n",
    "w=[\"Basics\", \"of\", \"Python\"]\n",
    "for word in w:\n",
    "    print(word[-2])"
   ]
  },
  {
   "cell_type": "code",
   "execution_count": 11,
   "id": "1c270fa7",
   "metadata": {},
   "outputs": [
    {
     "name": "stdout",
     "output_type": "stream",
     "text": [
      "['n', 'i', 's']\n"
     ]
    }
   ],
   "source": [
    "#Another way: Script to print last element of all list members\n",
    "\n",
    "w = [\"Programming\", \"is\", \"easy\"]\n",
    "result = [word[-2] for word in w]\n",
    "print(result)"
   ]
  },
  {
   "cell_type": "code",
   "execution_count": 12,
   "id": "9392c7fd",
   "metadata": {},
   "outputs": [
    {
     "name": "stdout",
     "output_type": "stream",
     "text": [
      "[2, 6]\n"
     ]
    }
   ],
   "source": [
    "## Multiplication of two lists\n",
    "l=[1,2]\n",
    "m=[2,3]\n",
    "k=[]\n",
    "for i,j in l,m:\n",
    "    k.append(i*j )\n",
    "print(k)"
   ]
  },
  {
   "cell_type": "markdown",
   "id": "17cf73cd",
   "metadata": {},
   "source": [
    "# The for loop is a common way to iterate through a list. List comprehension, on the other hand, is a more efficient way to iterate through a list because it requires fewer lines of code.\n",
    "List comprehension requires less computation power than a for loop because it takes up less space and code. This is useful when working on large programs, as efficiency becomes a major consideration when the code is lengthy."
   ]
  },
  {
   "cell_type": "code",
   "execution_count": 13,
   "id": "17eb860a",
   "metadata": {},
   "outputs": [
    {
     "name": "stdout",
     "output_type": "stream",
     "text": [
      "[0, 2, 4, 6, 8, 10, 12, 14, 16, 18]\n"
     ]
    }
   ],
   "source": [
    "# creating the empty list\n",
    "old_list = []\n",
    " # we will use the for loop to create the new list\n",
    "for x in range(10):\n",
    " old_list.append(x*2)\n",
    "print (old_list )"
   ]
  },
  {
   "cell_type": "code",
   "execution_count": 14,
   "id": "c172dab0",
   "metadata": {},
   "outputs": [
    {
     "name": "stdout",
     "output_type": "stream",
     "text": [
      "[0, 2, 4, 6, 8, 10, 12, 14, 16, 18]\n"
     ]
    }
   ],
   "source": [
    "# creating the set with the help of list comprehension\n",
    "old_list = [x*2 for x in range(10)]\n",
    "print (old_list)"
   ]
  },
  {
   "cell_type": "code",
   "execution_count": 15,
   "id": "60f70d5f",
   "metadata": {},
   "outputs": [
    {
     "name": "stdout",
     "output_type": "stream",
     "text": [
      "[0, 2, 4, 6, 8]\n"
     ]
    }
   ],
   "source": [
    "#Using if with List Comprehension\n",
    "even_list = [ i for i in range(10) if i % 2 == 0]\n",
    "print(even_list)"
   ]
  },
  {
   "cell_type": "code",
   "execution_count": 16,
   "id": "ea3019b8",
   "metadata": {},
   "outputs": [
    {
     "name": "stdout",
     "output_type": "stream",
     "text": [
      "[0, 10, 20, 30, 40]\n"
     ]
    }
   ],
   "source": [
    "filtered_list = [ x for x in range(50) if x % 2 == 0 if x % 5 == 0]   \n",
    "#If x satisfies both conditions, x is appended to filtered_list.\n",
    "print(filtered_list)"
   ]
  },
  {
   "cell_type": "code",
   "execution_count": 17,
   "id": "c56ce049",
   "metadata": {},
   "outputs": [
    {
     "name": "stdout",
     "output_type": "stream",
     "text": [
      "['even', 'odd', 'even', 'odd', 'even']\n"
     ]
    }
   ],
   "source": [
    "\n",
    "l = [\"even\" if y%2==0 else \"odd\" for y in range(5)]\n",
    "print(l)\n",
    "# ist comprehension will check the five numbers from 0 to 4. \n",
    "#If y is divisible by 2, then even is appended to the obj list. If not, odd is appended."
   ]
  },
  {
   "cell_type": "markdown",
   "id": "38328442",
   "metadata": {},
   "source": [
    "# Questions for Practice!!\n",
    "1. Finding the elements in a list in which elements are ended with the letter ‘d’ and the length of that element is greater than 2."
   ]
  },
  {
   "cell_type": "code",
   "execution_count": 18,
   "id": "e5fd8666",
   "metadata": {},
   "outputs": [
    {
     "data": {
      "text/plain": [
       "['ABcD', 'acd', 'Red', 'Med']"
      ]
     },
     "execution_count": 18,
     "metadata": {},
     "output_type": "execute_result"
    }
   ],
   "source": [
    "names = ['ABcD','Cd','acd','bbB','fb','xa','Red','Med']  # This function filter out all the strings \n",
    "#from the list that are ended with the letters ‘d’ or ‘D’.\n",
    "sol = [name for name in names if name.lower().endswith('d') and len(name) > 2]\n",
    "sol"
   ]
  },
  {
   "cell_type": "markdown",
   "id": "f369fd13",
   "metadata": {},
   "source": [
    "# 2. Reverse each String in a Tuple using List Comprehension"
   ]
  },
  {
   "cell_type": "code",
   "execution_count": 19,
   "id": "1ca0aa36",
   "metadata": {},
   "outputs": [
    {
     "data": {
      "text/plain": [
       "'e'"
      ]
     },
     "execution_count": 19,
     "metadata": {},
     "output_type": "execute_result"
    }
   ],
   "source": [
    "a=\"life\"\n",
    "a[::]\n",
    "a[:-1]\n",
    "a[-1:]"
   ]
  },
  {
   "cell_type": "code",
   "execution_count": 20,
   "id": "b4531b0e",
   "metadata": {},
   "outputs": [
    {
     "name": "stdout",
     "output_type": "stream",
     "text": [
      "['nohtyP', 'ataD', 'sisylanA']\n"
     ]
    }
   ],
   "source": [
    "a = [s[::-1] for s in ('Python', 'Data', 'Analysis')]\n",
    "# Display the list\n",
    "print(a)"
   ]
  },
  {
   "cell_type": "markdown",
   "id": "524fa3e4",
   "metadata": {},
   "source": [
    "# Dictionary comprehension\n",
    "Dictionary comprehension allows you to create dictionaries in Python, as the name implies."
   ]
  },
  {
   "cell_type": "code",
   "execution_count": 21,
   "id": "d1f251bb",
   "metadata": {},
   "outputs": [
    {
     "name": "stdout",
     "output_type": "stream",
     "text": [
      "{1: 'a', 2: 'b', 3: 'c', 4: 'd', 5: 'e', 6: 'f'}\n"
     ]
    }
   ],
   "source": [
    "# using Python to showcase dictionary comprehension\n",
    " # creation of two lists to represent keys and values\n",
    "keys = [1, 2, 3, 4, 5, 6]\n",
    "values = ['a', 'b', 'c', 'd', 'e', 'f']\n",
    " # implementing dictionary comprehension\n",
    "d = { k:v for (k,v) in zip(keys, values)}\n",
    "print(d)"
   ]
  },
  {
   "cell_type": "markdown",
   "id": "6e69bfc4",
   "metadata": {},
   "source": [
    "# While loop\n",
    "\n",
    "while something_is_true\n",
    "    Do somethings repeatedly\n",
    "    \n",
    "When the something_is_true becomes false, then the loop stops and comes out of it."
   ]
  },
  {
   "cell_type": "code",
   "execution_count": 1,
   "id": "e9780982",
   "metadata": {},
   "outputs": [
    {
     "name": "stdout",
     "output_type": "stream",
     "text": [
      "1\n",
      "2\n",
      "3\n",
      "4\n",
      "5\n"
     ]
    }
   ],
   "source": [
    "# program to display numbers from 1 to 5\n",
    "\n",
    "# initialize the variable\n",
    "i = 1\n",
    "n = 5\n",
    "\n",
    "# while loop from i = 1 to 5\n",
    "while i <= n:\n",
    "    print(i)\n",
    "    i = i + 1"
   ]
  },
  {
   "cell_type": "code",
   "execution_count": 22,
   "id": "15cf9718",
   "metadata": {},
   "outputs": [
    {
     "name": "stdout",
     "output_type": "stream",
     "text": [
      "1\n",
      "2\n",
      "3\n"
     ]
    }
   ],
   "source": [
    "i=1 #inti\n",
    "while i<4: #condit\n",
    "    print(i)\n",
    "    i=i+1"
   ]
  },
  {
   "cell_type": "code",
   "execution_count": 23,
   "id": "7f38b4d7",
   "metadata": {},
   "outputs": [
    {
     "name": "stdout",
     "output_type": "stream",
     "text": [
      "1\n",
      "2\n",
      "3\n"
     ]
    }
   ],
   "source": [
    "#Exit \n",
    "i=1\n",
    "while i<6:\n",
    "    print(i)\n",
    "    if i==3:\n",
    "        break\n",
    "    i+=1"
   ]
  },
  {
   "cell_type": "code",
   "execution_count": 2,
   "id": "f7396009",
   "metadata": {},
   "outputs": [
    {
     "name": "stdout",
     "output_type": "stream",
     "text": [
      "1\n",
      "2\n",
      "4\n",
      "5\n",
      "6\n"
     ]
    }
   ],
   "source": [
    "#continue\n",
    "i=0\n",
    "while i<6:\n",
    "    i+=1  \n",
    "    if i==3:\n",
    "        continue\n",
    "    print(i)"
   ]
  },
  {
   "cell_type": "code",
   "execution_count": 25,
   "id": "26ea909e",
   "metadata": {},
   "outputs": [],
   "source": [
    "## Write Script that will input 5 names if name==\"Name\" break the loop and if name=\" \" continue"
   ]
  },
  {
   "cell_type": "code",
   "execution_count": 1,
   "id": "4811cb9c",
   "metadata": {},
   "outputs": [
    {
     "name": "stdout",
     "output_type": "stream",
     "text": [
      "Input a list of student heights monika arora rohit\n"
     ]
    },
    {
     "ename": "TypeError",
     "evalue": "int() argument must be a string, a bytes-like object or a number, not 'list'",
     "output_type": "error",
     "traceback": [
      "\u001b[1;31m---------------------------------------------------------------------------\u001b[0m",
      "\u001b[1;31mTypeError\u001b[0m                                 Traceback (most recent call last)",
      "\u001b[1;32m~\\AppData\\Local\\Temp\\1\\ipykernel_19144\\1580684802.py\u001b[0m in \u001b[0;36m<module>\u001b[1;34m\u001b[0m\n\u001b[0;32m      1\u001b[0m \u001b[0mname\u001b[0m \u001b[1;33m=\u001b[0m \u001b[0minput\u001b[0m\u001b[1;33m(\u001b[0m\u001b[1;34m\"Input a list of student heights \"\u001b[0m\u001b[1;33m)\u001b[0m\u001b[1;33m.\u001b[0m\u001b[0msplit\u001b[0m\u001b[1;33m(\u001b[0m\u001b[1;33m)\u001b[0m\u001b[1;33m\u001b[0m\u001b[1;33m\u001b[0m\u001b[0m\n\u001b[1;32m----> 2\u001b[1;33m \u001b[0mnamei\u001b[0m\u001b[1;33m=\u001b[0m\u001b[0mint\u001b[0m\u001b[1;33m(\u001b[0m\u001b[0mname\u001b[0m\u001b[1;33m)\u001b[0m\u001b[1;33m\u001b[0m\u001b[1;33m\u001b[0m\u001b[0m\n\u001b[0m\u001b[0;32m      3\u001b[0m \u001b[1;32mwhile\u001b[0m \u001b[0mnamei\u001b[0m\u001b[1;33m<\u001b[0m\u001b[1;36m6\u001b[0m\u001b[1;33m:\u001b[0m\u001b[1;33m\u001b[0m\u001b[1;33m\u001b[0m\u001b[0m\n\u001b[0;32m      4\u001b[0m     \u001b[1;32mif\u001b[0m \u001b[0mname\u001b[0m\u001b[1;33m==\u001b[0m\u001b[1;34m\"monika\"\u001b[0m\u001b[1;33m:\u001b[0m\u001b[1;33m\u001b[0m\u001b[1;33m\u001b[0m\u001b[0m\n\u001b[0;32m      5\u001b[0m         \u001b[1;32mbreak\u001b[0m\u001b[1;33m\u001b[0m\u001b[1;33m\u001b[0m\u001b[0m\n",
      "\u001b[1;31mTypeError\u001b[0m: int() argument must be a string, a bytes-like object or a number, not 'list'"
     ]
    }
   ],
   "source": [
    "name = input(\"Input a list of student heights \").split()\n",
    "namei=int(name)\n",
    "while namei<6:\n",
    "    if name==\"monika\":\n",
    "        break\n",
    "    elif name== \" \":\n",
    "        continue"
   ]
  },
  {
   "cell_type": "code",
   "execution_count": null,
   "id": "962c7438",
   "metadata": {},
   "outputs": [],
   "source": []
  },
  {
   "cell_type": "code",
   "execution_count": null,
   "id": "94ccfc81",
   "metadata": {},
   "outputs": [],
   "source": []
  }
 ],
 "metadata": {
  "kernelspec": {
   "display_name": "Python 3 (ipykernel)",
   "language": "python",
   "name": "python3"
  },
  "language_info": {
   "codemirror_mode": {
    "name": "ipython",
    "version": 3
   },
   "file_extension": ".py",
   "mimetype": "text/x-python",
   "name": "python",
   "nbconvert_exporter": "python",
   "pygments_lexer": "ipython3",
   "version": "3.9.13"
  }
 },
 "nbformat": 4,
 "nbformat_minor": 5
}
