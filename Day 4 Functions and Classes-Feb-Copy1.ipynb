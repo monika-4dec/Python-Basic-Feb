{
 "cells": [
  {
   "cell_type": "raw",
   "id": "4a55c52c",
   "metadata": {},
   "source": [
    "Build in functions\n",
    "\n",
    "https://docs.python.org/3/library/functions.html\n"
   ]
  },
  {
   "cell_type": "code",
   "execution_count": 1,
   "id": "19bc67b0",
   "metadata": {},
   "outputs": [
    {
     "name": "stdout",
     "output_type": "stream",
     "text": [
      "Number of people in session2\n",
      "Name of sessionpython\n"
     ]
    }
   ],
   "source": [
    "## Function without any argument\n",
    "\n",
    "def session():\n",
    "    x=int(input(\"Number of people in session\"))\n",
    "    y=input(\"Name of session\")\n",
    "session()"
   ]
  },
  {
   "cell_type": "code",
   "execution_count": 2,
   "id": "21a44fa4",
   "metadata": {},
   "outputs": [
    {
     "name": "stdout",
     "output_type": "stream",
     "text": [
      "Name = monika Age = 25\n"
     ]
    }
   ],
   "source": [
    "def details(name =\" \", age=int):\n",
    "    print(\"Name = %s Age = %d\" %(name,age))\n",
    "details(\"monika\",25)"
   ]
  },
  {
   "cell_type": "code",
   "execution_count": 19,
   "id": "e0b34c21",
   "metadata": {},
   "outputs": [
    {
     "data": {
      "text/plain": [
       "'A'"
      ]
     },
     "execution_count": 19,
     "metadata": {},
     "output_type": "execute_result"
    }
   ],
   "source": [
    "def details (name=\" \",age=int,job_role=\"\"):\n",
    "    #print(\"Name is %s age is %d and job role is %s\"%(name,age,job_role))\n",
    "    return name\n",
    "\n",
    "details(\"A\",32,\"AC\")"
   ]
  },
  {
   "cell_type": "code",
   "execution_count": 4,
   "id": "cc388641",
   "metadata": {},
   "outputs": [
    {
     "name": "stdout",
     "output_type": "stream",
     "text": [
      "Enter 1st no.: 23\n",
      "Enter 2nd no.: 34\n",
      "Enter your choice i.e. +,-,*,//\n",
      "Div =  0.6764705882352942\n"
     ]
    }
   ],
   "source": [
    "x = int(input(\"Enter 1st no.: \"))\n",
    "y = int(input(\"Enter 2nd no.: \"))\n",
    " \n",
    "def calci(x,y):\n",
    "    choice = input(\"Enter your choice i.e. +,-,*,/\")\n",
    "    if choice == \"+\":\n",
    "        print(\"Sum = \",x+y)\n",
    "    elif choice == \"-\":\n",
    "        print(\"Sub = \",x-y)\n",
    "    elif choice == \"*\":\n",
    "        print(\"Mul = \",x*y)\n",
    "    elif choice == \"/\" and y !=0:\n",
    "        print(\"Div = \",x/y)\n",
    "    else:\n",
    "        print(\"Invalid choice\")\n",
    "calci(x,y)"
   ]
  },
  {
   "cell_type": "markdown",
   "id": "e3e5c5e6",
   "metadata": {},
   "source": [
    "# Return() is not mandatory in Python\n",
    "To let a function return a value, use the return statement:"
   ]
  },
  {
   "cell_type": "code",
   "execution_count": 5,
   "id": "ff76dd04",
   "metadata": {},
   "outputs": [
    {
     "name": "stdout",
     "output_type": "stream",
     "text": [
      "7\n",
      "14\n"
     ]
    },
    {
     "data": {
      "text/plain": [
       "4"
      ]
     },
     "execution_count": 5,
     "metadata": {},
     "output_type": "execute_result"
    }
   ],
   "source": [
    "print(3+4)\n",
    "print(6+8)\n",
    "4"
   ]
  },
  {
   "cell_type": "code",
   "execution_count": 6,
   "id": "7f9a56c4",
   "metadata": {},
   "outputs": [
    {
     "data": {
      "text/plain": [
       "4"
      ]
     },
     "execution_count": 6,
     "metadata": {},
     "output_type": "execute_result"
    }
   ],
   "source": [
    "def the(x,y):\n",
    "    #print(x*y)\n",
    "    return x\n",
    "    \n",
    "the(8,7)\n",
    "the(4,5)"
   ]
  },
  {
   "cell_type": "markdown",
   "id": "ca151598",
   "metadata": {},
   "source": [
    "# Different variable class can be passed within a function"
   ]
  },
  {
   "cell_type": "code",
   "execution_count": 17,
   "id": "206fd718",
   "metadata": {},
   "outputs": [
    {
     "name": "stdout",
     "output_type": "stream",
     "text": [
      "Rahul 20 Male\n"
     ]
    }
   ],
   "source": [
    "def Emp(name,age,g):\n",
    "   print(name,age,g)\n",
    "\n",
    "Emp(\"Rahul\",20,\"Male\")\n"
   ]
  },
  {
   "cell_type": "code",
   "execution_count": 21,
   "id": "436832a6",
   "metadata": {},
   "outputs": [
    {
     "name": "stdout",
     "output_type": "stream",
     "text": [
      "The last employee is: er3\n"
     ]
    }
   ],
   "source": [
    "def dex(*emp):\n",
    "    print(\"The last employee is: \" + emp[-1])\n",
    "    \n",
    "dex(\"Abc\",\"ab12\",\"er3\")\n",
    "#dex(\"A\",\"B\")\n",
    "#dex (\"ram\",\"sam\",\"lam\",\"man\")"
   ]
  },
  {
   "cell_type": "code",
   "execution_count": 28,
   "id": "12968273",
   "metadata": {},
   "outputs": [
    {
     "name": "stdout",
     "output_type": "stream",
     "text": [
      "kiwi\n",
      "apple\n",
      "pie\n",
      "abc\n"
     ]
    }
   ],
   "source": [
    "fruit=[\"kiwi\",\"apple\",\"pie\",\"abc\"]\n",
    "\n",
    "def food(fruit):\n",
    "    for i in fruit:\n",
    "        print(i)\n",
    "\n",
    "food(fruit)\n",
    "    "
   ]
  },
  {
   "cell_type": "markdown",
   "id": "5b218c8c",
   "metadata": {},
   "source": [
    "# Practice Questions on Functions\n",
    "Q Write a Python function to sum all the numbers in a list."
   ]
  },
  {
   "cell_type": "code",
   "execution_count": 33,
   "id": "8f37347c",
   "metadata": {},
   "outputs": [
    {
     "data": {
      "text/plain": [
       "44"
      ]
     },
     "execution_count": 33,
     "metadata": {},
     "output_type": "execute_result"
    }
   ],
   "source": [
    "def sum(numbers):\n",
    "    total = 0\n",
    "    for x in numbers:    \n",
    "        total += x\n",
    "    return total\n",
    "\n",
    "sum((12,12))"
   ]
  },
  {
   "cell_type": "markdown",
   "id": "488b6102",
   "metadata": {},
   "source": [
    "# Q Write a Python funtion to check whether a given number is the given range"
   ]
  },
  {
   "cell_type": "code",
   "execution_count": 14,
   "id": "d6cb2825",
   "metadata": {},
   "outputs": [
    {
     "name": "stdout",
     "output_type": "stream",
     "text": [
      " 15 is in the range\n"
     ]
    }
   ],
   "source": [
    "def test_range(n):\n",
    "    if n in range(12,50):\n",
    "        print( \" %s is in the range\"%str(n))\n",
    "    else :\n",
    "        print(\"The number is outside the given range.\")\n",
    "test_range(15)"
   ]
  },
  {
   "cell_type": "code",
   "execution_count": 35,
   "id": "769196fe",
   "metadata": {},
   "outputs": [
    {
     "name": "stdout",
     "output_type": "stream",
     "text": [
      "Enter a stringMoM\n",
      "2 1\n"
     ]
    }
   ],
   "source": [
    "###  Write a Python function that accepts a string and calculate the number of upper case letters and lower case letters\n",
    "def breakdown():\n",
    "    x= input(\"Enter a string\")\n",
    "    countupper = 0\n",
    "    countlower = 0\n",
    "    for i in x:\n",
    "        if i.isupper():\n",
    "                countupper+=1\n",
    "        else:\n",
    "                countlower+=1\n",
    "    print(countupper, countlower)\n",
    "breakdown()"
   ]
  },
  {
   "cell_type": "code",
   "execution_count": null,
   "id": "c6dda7a2",
   "metadata": {},
   "outputs": [],
   "source": [
    "###  Write a Python function that accepts a string and calculate the number of upper case letters and lower case letters\n",
    "# def string_test(s):\n",
    "#     d={\"UPPER_CASE\":0, \"LOWER_CASE\":0,\"SPACES_\":0}\n",
    "#     for c in s:\n",
    "#         if c.isupper():\n",
    "#            d[\"UPPER_CASE\"]+=1\n",
    "#         elif c.islower():\n",
    "#            d[\"LOWER_CASE\"]+=1\n",
    "#         else:\n",
    "#            pass\n",
    "#     print (\"Original String : \", s)\n",
    "#     print (\"No. of Upper case characters : \", d[\"UPPER_CASE\"])\n",
    "#     print (\"No. of Lower case Characters : \", d[\"LOWER_CASE\"])\n",
    "\n",
    "# string_test(\"PRACTICE More\")"
   ]
  }
 ],
 "metadata": {
  "kernelspec": {
   "display_name": "Python 3 (ipykernel)",
   "language": "python",
   "name": "python3"
  },
  "language_info": {
   "codemirror_mode": {
    "name": "ipython",
    "version": 3
   },
   "file_extension": ".py",
   "mimetype": "text/x-python",
   "name": "python",
   "nbconvert_exporter": "python",
   "pygments_lexer": "ipython3",
   "version": "3.9.13"
  }
 },
 "nbformat": 4,
 "nbformat_minor": 5
}
